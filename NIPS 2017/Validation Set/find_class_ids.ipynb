{
 "cells": [
  {
   "cell_type": "code",
   "execution_count": 26,
   "metadata": {},
   "outputs": [],
   "source": [
    "import numpy as np\n",
    "\n",
    "with open('imagenet_metadata.txt') as txtfile:\n",
    "    metadata = np.transpose([row.rstrip().split('\\t') for row in txtfile])\n",
    "\n",
    "meta_ids = [int(i[1:]) for i in metadata[0,:]]\n",
    "meta_lbs = metadata[1,:]\n",
    "\n",
    "with open('imagenet_lsvrc_2015_synsets.txt', 'rb') as txtfile:\n",
    "    folder_ids = [int(row.rstrip()[1:]) for row in txtfile]\n",
    "\n",
    "labels = [meta_lbs[meta_ids.index(folder_id)] for folder_id in folder_ids]"
   ]
  },
  {
   "cell_type": "code",
   "execution_count": 32,
   "metadata": {},
   "outputs": [],
   "source": [
    "with open('image_labels.txt', 'wb') as txtfile:\n",
    "    txtfile.write('0:background\\n')\n",
    "    for j, label in zip(range(1,len(labels)+1), labels):\n",
    "        txtfile.write(str(j) + ':' + label + '\\n')"
   ]
  },
  {
   "cell_type": "code",
   "execution_count": null,
   "metadata": {
    "collapsed": true
   },
   "outputs": [],
   "source": []
  }
 ],
 "metadata": {
  "kernelspec": {
   "display_name": "Python 2",
   "language": "python",
   "name": "python2"
  },
  "language_info": {
   "codemirror_mode": {
    "name": "ipython",
    "version": 2
   },
   "file_extension": ".py",
   "mimetype": "text/x-python",
   "name": "python",
   "nbconvert_exporter": "python",
   "pygments_lexer": "ipython2",
   "version": "2.7.13"
  }
 },
 "nbformat": 4,
 "nbformat_minor": 2
}
