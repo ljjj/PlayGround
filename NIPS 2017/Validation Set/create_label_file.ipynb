{
 "cells": [
  {
   "cell_type": "code",
   "execution_count": null,
   "metadata": {
    "scrolled": true
   },
   "outputs": [],
   "source": [
    "import glob, os\n",
    "import numpy as np\n",
    "import csv\n",
    "\n",
    "os.chdir('images/')\n",
    "\n",
    "try:\n",
    "    # initialize\n",
    "    folders = [name for name in os.listdir(\".\") if os.path.isdir(name)]\n",
    "    image_ids      = np.zeros(0, dtype=str)\n",
    "    true_labels    = np.zeros(0, dtype=int)\n",
    "    true_label = 0\n",
    "    \n",
    "    # record image ids and true labels while moving images out\n",
    "    for folder in folders:\n",
    "        true_label += 1\n",
    "        os.chdir(folder + '/')\n",
    "        try:\n",
    "            for file in glob.glob(\"*.JPEG\"):\n",
    "                image_ids =   np.append(image_ids,   file[:-5])\n",
    "                true_labels = np.append(true_labels, true_label)\n",
    "                os.rename(file, \"../\" + file)\n",
    "        finally:\n",
    "            os.chdir('../')\n",
    "#         os.rmdir(folder + '/')\n",
    "\n",
    "finally:\n",
    "    os.chdir('../')\n",
    "\n",
    "# randomly assign target class and remove collision\n",
    "target_classes = np.random.randint(1, 1001, size=np.size(true_labels))\n",
    "for i in np.where(target_classes == true_labels)[0]:\n",
    "    while target_classes[i] == true_labels[i]:\n",
    "        target_classes[i] = np.random.randint(1, 1001, size=1)\n",
    "\n",
    "# save image info\n",
    "with open('images.csv', 'w') as csvfile:\n",
    "    writer = csv.DictWriter(csvfile, ['ImageId','URL','x1','y1','x2','y2','TrueLabel','TargetClass','OriginalLandingURL',\n",
    "                                       'License','Author','AuthorProfileURL'], lineterminator='\\n')\n",
    "    writer.writeheader()\n",
    "    for image_id, true_label, target_class in zip(image_ids, true_labels, target_classes):\n",
    "        writer.writerow({'ImageId': image_id, 'TrueLabel': true_label, 'TargetClass': target_class})"
   ]
  },
  {
   "cell_type": "code",
   "execution_count": null,
   "metadata": {
    "collapsed": true
   },
   "outputs": [],
   "source": []
  }
 ],
 "metadata": {
  "kernelspec": {
   "display_name": "Python 3",
   "language": "python",
   "name": "python3"
  },
  "language_info": {
   "codemirror_mode": {
    "name": "ipython",
    "version": 3
   },
   "file_extension": ".py",
   "mimetype": "text/x-python",
   "name": "python",
   "nbconvert_exporter": "python",
   "pygments_lexer": "ipython3",
   "version": "3.5.1"
  }
 },
 "nbformat": 4,
 "nbformat_minor": 2
}
